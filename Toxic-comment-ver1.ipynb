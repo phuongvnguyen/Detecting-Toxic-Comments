{
 "cells": [
  {
   "cell_type": "markdown",
   "metadata": {
    "_cell_guid": "d3b04218-0413-4e6c-8751-5d8a404d73a9",
    "_uuid": "0bca9739b82d5d51e1229243e03ea1b6db35c17e"
   },
   "source": [
    "$$\\Large \\color{green}{\\textbf{Kaggle Project On Detecting The Toxic Comments }}$$\n",
    "\n",
    "$$\\small \\color{blue}{\\textbf{The CopyRight @ Phuong Van Nguyen}}$$\n",
    "$$\\small \\color{red}{\\textbf{ phuong.nguyen@summer.barcelonagse.eu}}$$\n",
    "\n",
    "This Machine Learning program was wrotten by Phuong V. Nguyen, based on the Anacoda 1.9.7 and Python 3.7.\n",
    "\n",
    "$$\\small \\color{blue}{\\underline{\\textbf{Issue:}}}$$\n",
    "\n",
    "You’re challenged to build a multi-headed model that’s capable of detecting different types of of toxicity like threats, obscenity, insults, and identity-based hate better than Perspective’s current models. You’ll be using a dataset of comments from Wikipedia’s talk page edits. Improvements to the cur. For further information, One can refer to the overview of this problem in the following link\n",
    "\n",
    "https://www.kaggle.com/c/jigsaw-toxic-comment-classification-challenge/overview\n"
   ]
  },
  {
   "cell_type": "markdown",
   "metadata": {},
   "source": [
    "# Loading the necessary libraries\n",
    "\n"
   ]
  },
  {
   "cell_type": "code",
   "execution_count": 81,
   "metadata": {},
   "outputs": [],
   "source": [
    "import os\n",
    "from time import time\n",
    "import numpy as np\n",
    "import pandas as pd\n",
    "from scipy import stats\n",
    "from pandas import set_option\n",
    "from pandas.plotting import scatter_matrix\n",
    "import matplotlib.pyplot as plt\n",
    "import seaborn as sns\n",
    "import plotly.offline as py\n",
    "import plotly.express as px\n",
    "import plotly.graph_objects as go\n",
    "from plotly.subplots import make_subplots\n",
    "from sklearn.preprocessing import StandardScaler\n",
    "from sklearn.preprocessing import LabelEncoder\n",
    "from sklearn.feature_extraction.text import CountVectorizer, TfidfVectorizer\n",
    "from sklearn.feature_extraction.text import TfidfTransformer"
   ]
  },
  {
   "cell_type": "code",
   "execution_count": 2,
   "metadata": {},
   "outputs": [],
   "source": [
    "from sklearn.linear_model import RidgeClassifier\n",
    "from sklearn.pipeline import Pipeline\n",
    "from sklearn.svm import LinearSVC\n",
    "from sklearn.linear_model import SGDClassifier\n",
    "from sklearn.linear_model import Perceptron\n",
    "from sklearn.linear_model import PassiveAggressiveClassifier\n",
    "from sklearn.naive_bayes import BernoulliNB, ComplementNB, MultinomialNB\n",
    "from sklearn.neighbors import KNeighborsClassifier\n",
    "from sklearn.neighbors import NearestCentroid\n",
    "from sklearn.ensemble import RandomForestClassifier\n",
    "from sklearn.ensemble import ExtraTreesClassifier\n",
    "from sklearn.ensemble import AdaBoostClassifier\n",
    "from sklearn.ensemble import GradientBoostingClassifier"
   ]
  },
  {
   "cell_type": "code",
   "execution_count": 65,
   "metadata": {},
   "outputs": [],
   "source": [
    "from sklearn.utils.extmath import density\n",
    "from sklearn import metrics\n",
    "from sklearn.model_selection import KFold\n",
    "from sklearn.model_selection import cross_val_score\n",
    "from sklearn.model_selection import GridSearchCV\n",
    "from sklearn.feature_selection import SelectFromModel\n",
    "from sklearn.feature_selection import SelectKBest, chi2"
   ]
  },
  {
   "cell_type": "code",
   "execution_count": 4,
   "metadata": {},
   "outputs": [],
   "source": [
    "Purple= '\\033[95m'\n",
    "Cyan= '\\033[96m'\n",
    "Darkcyan= '\\033[36m'\n",
    "Blue = '\\033[94m'\n",
    "Green = '\\033[92m'\n",
    "Yellow = '\\033[93m'\n",
    "Red = '\\033[91m'\n",
    "Bold = \"\\033[1m\"\n",
    "Reset = \"\\033[0;0m\"\n",
    "Underline= '\\033[4m'\n",
    "End = '\\033[0m'"
   ]
  },
  {
   "cell_type": "markdown",
   "metadata": {},
   "source": [
    "# Loading data"
   ]
  },
  {
   "cell_type": "code",
   "execution_count": 5,
   "metadata": {
    "_cell_guid": "a494f561-0c2f-4a38-8973-6b60c22da357",
    "_uuid": "f70ebe669fcf6b434c595cf6fb7a76120bf7809c"
   },
   "outputs": [],
   "source": [
    "train = pd.read_csv('train.csv')\n",
    "test = pd.read_csv('test.csv')\n",
    "subm = pd.read_csv('sample_submission.csv')"
   ]
  },
  {
   "cell_type": "markdown",
   "metadata": {
    "_cell_guid": "3996a226-e1ca-4aa8-b39f-6524d4dadb07",
    "_uuid": "2c18461316f17d1d323b1959c8eb4e5448e8a44e"
   },
   "source": [
    "# Exploratory Data Analysis (EDA)\n",
    "\n",
    "The training data contains a row per comment, with an id, the text of the comment, and 6 different labels that we'll try to predict.\n",
    "## Picking sample"
   ]
  },
  {
   "cell_type": "code",
   "execution_count": 6,
   "metadata": {
    "_cell_guid": "5ddb337b-c9b2-4fec-9652-cb26769dc3c6",
    "_uuid": "5f5269c56ea6ded273881b0d4dcdb6af83a3e089",
    "scrolled": true
   },
   "outputs": [
    {
     "data": {
      "text/html": [
       "<div>\n",
       "<style scoped>\n",
       "    .dataframe tbody tr th:only-of-type {\n",
       "        vertical-align: middle;\n",
       "    }\n",
       "\n",
       "    .dataframe tbody tr th {\n",
       "        vertical-align: top;\n",
       "    }\n",
       "\n",
       "    .dataframe thead th {\n",
       "        text-align: right;\n",
       "    }\n",
       "</style>\n",
       "<table border=\"1\" class=\"dataframe\">\n",
       "  <thead>\n",
       "    <tr style=\"text-align: right;\">\n",
       "      <th></th>\n",
       "      <th>id</th>\n",
       "      <th>comment_text</th>\n",
       "      <th>toxic</th>\n",
       "      <th>severe_toxic</th>\n",
       "      <th>obscene</th>\n",
       "      <th>threat</th>\n",
       "      <th>insult</th>\n",
       "      <th>identity_hate</th>\n",
       "    </tr>\n",
       "  </thead>\n",
       "  <tbody>\n",
       "    <tr>\n",
       "      <td>0</td>\n",
       "      <td>0000997932d777bf</td>\n",
       "      <td>Explanation\\nWhy the edits made under my usern...</td>\n",
       "      <td>0</td>\n",
       "      <td>0</td>\n",
       "      <td>0</td>\n",
       "      <td>0</td>\n",
       "      <td>0</td>\n",
       "      <td>0</td>\n",
       "    </tr>\n",
       "    <tr>\n",
       "      <td>1</td>\n",
       "      <td>000103f0d9cfb60f</td>\n",
       "      <td>D'aww! He matches this background colour I'm s...</td>\n",
       "      <td>0</td>\n",
       "      <td>0</td>\n",
       "      <td>0</td>\n",
       "      <td>0</td>\n",
       "      <td>0</td>\n",
       "      <td>0</td>\n",
       "    </tr>\n",
       "    <tr>\n",
       "      <td>2</td>\n",
       "      <td>000113f07ec002fd</td>\n",
       "      <td>Hey man, I'm really not trying to edit war. It...</td>\n",
       "      <td>0</td>\n",
       "      <td>0</td>\n",
       "      <td>0</td>\n",
       "      <td>0</td>\n",
       "      <td>0</td>\n",
       "      <td>0</td>\n",
       "    </tr>\n",
       "    <tr>\n",
       "      <td>3</td>\n",
       "      <td>0001b41b1c6bb37e</td>\n",
       "      <td>\"\\nMore\\nI can't make any real suggestions on ...</td>\n",
       "      <td>0</td>\n",
       "      <td>0</td>\n",
       "      <td>0</td>\n",
       "      <td>0</td>\n",
       "      <td>0</td>\n",
       "      <td>0</td>\n",
       "    </tr>\n",
       "    <tr>\n",
       "      <td>4</td>\n",
       "      <td>0001d958c54c6e35</td>\n",
       "      <td>You, sir, are my hero. Any chance you remember...</td>\n",
       "      <td>0</td>\n",
       "      <td>0</td>\n",
       "      <td>0</td>\n",
       "      <td>0</td>\n",
       "      <td>0</td>\n",
       "      <td>0</td>\n",
       "    </tr>\n",
       "  </tbody>\n",
       "</table>\n",
       "</div>"
      ],
      "text/plain": [
       "                 id                                       comment_text  toxic  \\\n",
       "0  0000997932d777bf  Explanation\\nWhy the edits made under my usern...      0   \n",
       "1  000103f0d9cfb60f  D'aww! He matches this background colour I'm s...      0   \n",
       "2  000113f07ec002fd  Hey man, I'm really not trying to edit war. It...      0   \n",
       "3  0001b41b1c6bb37e  \"\\nMore\\nI can't make any real suggestions on ...      0   \n",
       "4  0001d958c54c6e35  You, sir, are my hero. Any chance you remember...      0   \n",
       "\n",
       "   severe_toxic  obscene  threat  insult  identity_hate  \n",
       "0             0        0       0       0              0  \n",
       "1             0        0       0       0              0  \n",
       "2             0        0       0       0              0  \n",
       "3             0        0       0       0              0  \n",
       "4             0        0       0       0              0  "
      ]
     },
     "execution_count": 6,
     "metadata": {},
     "output_type": "execute_result"
    }
   ],
   "source": [
    "train.head()"
   ]
  },
  {
   "cell_type": "markdown",
   "metadata": {
    "_cell_guid": "b3b071fb-7a2c-4195-9817-b01983d11c0e",
    "_uuid": "004d2e823056e98afc5adaac433b7afbfe93b82d"
   },
   "source": [
    "Here's a couple of examples of comments, one toxic, and one with no labels."
   ]
  },
  {
   "cell_type": "code",
   "execution_count": 7,
   "metadata": {
    "_cell_guid": "d57f0b31-c09b-4305-a0b0-0b864e944fd1",
    "_uuid": "1ba9522a65227881a3a55aefaee9de93c4cfd792"
   },
   "outputs": [
    {
     "data": {
      "text/plain": [
       "\"Explanation\\nWhy the edits made under my username Hardcore Metallica Fan were reverted? They weren't vandalisms, just closure on some GAs after I voted at New York Dolls FAC. And please don't remove the template from the talk page since I'm retired now.89.205.38.27\""
      ]
     },
     "execution_count": 7,
     "metadata": {},
     "output_type": "execute_result"
    }
   ],
   "source": [
    "train['comment_text'][0]"
   ]
  },
  {
   "cell_type": "code",
   "execution_count": 8,
   "metadata": {
    "_cell_guid": "9caf5da3-33bb-422d-81c4-fef20fbda1a8",
    "_uuid": "b0d70e9d745411ea6228c95c5f19bd3a2ca6dd55",
    "scrolled": true
   },
   "outputs": [
    {
     "data": {
      "text/plain": [
       "\"Hey man, I'm really not trying to edit war. It's just that this guy is constantly removing relevant information and talking to me through edits instead of my talk page. He seems to care more about the formatting than the actual info.\""
      ]
     },
     "execution_count": 8,
     "metadata": {},
     "output_type": "execute_result"
    }
   ],
   "source": [
    "train['comment_text'][2]"
   ]
  },
  {
   "cell_type": "markdown",
   "metadata": {},
   "source": [
    "## Checking the size"
   ]
  },
  {
   "cell_type": "code",
   "execution_count": 9,
   "metadata": {},
   "outputs": [
    {
     "name": "stdout",
     "output_type": "stream",
     "text": [
      "The size of the train data:\n",
      "(159571, 8)\n",
      "The size of the test data:\n",
      "(153164, 2)\n"
     ]
    }
   ],
   "source": [
    "print('The size of the train data:')\n",
    "print(train.shape)\n",
    "print('The size of the test data:')\n",
    "print(test.shape)"
   ]
  },
  {
   "cell_type": "code",
   "execution_count": 13,
   "metadata": {},
   "outputs": [
    {
     "name": "stdout",
     "output_type": "stream",
     "text": [
      "The size of the train data:\u001b[0m\n",
      "The number of comments: 159571. The number of columns: 8\n",
      "The size of the test data:\n",
      "The number of comments: 153164. The number of columns: 2\n"
     ]
    }
   ],
   "source": [
    "print('The size of the train data:'+End)\n",
    "print('The number of comments: %d. The number of columns: %d'%(train.shape))\n",
    "print('The size of the test data:')\n",
    "print('The number of comments: %d. The number of columns: %d'%(test.shape))"
   ]
  },
  {
   "cell_type": "markdown",
   "metadata": {},
   "source": [
    "## Checking name of feature"
   ]
  },
  {
   "cell_type": "code",
   "execution_count": 14,
   "metadata": {},
   "outputs": [
    {
     "name": "stdout",
     "output_type": "stream",
     "text": [
      "The name of 8 features in the train data:\n",
      "Index(['id', 'comment_text', 'toxic', 'severe_toxic', 'obscene', 'threat',\n",
      "       'insult', 'identity_hate'],\n",
      "      dtype='object')\n",
      "The name of 2 features in the test data:\n",
      "Index(['id', 'comment_text'], dtype='object')\n"
     ]
    }
   ],
   "source": [
    "print('The name of %d features in the train data:'%(len(train.columns)))\n",
    "print(train.columns)\n",
    "print('The name of %d features in the test data:'%(len(test.columns)))\n",
    "print(test.columns)"
   ]
  },
  {
   "cell_type": "markdown",
   "metadata": {
    "_cell_guid": "2ea37597-02f7-43cf-ad16-a3d50aac1aba",
    "_uuid": "5c4c716de98a4b1c2ecc0e516e67813b4fc1473e"
   },
   "source": [
    "## Distribution of the length of the comments\n",
    "The length of the comments varies a lot."
   ]
  },
  {
   "cell_type": "code",
   "execution_count": 15,
   "metadata": {
    "_cell_guid": "fd3fe158-4d7f-4b30-ac15-42605240ea4f",
    "_uuid": "9c1a3f81397199fa250a2b642edc7fbc5f9f504e"
   },
   "outputs": [
    {
     "name": "stdout",
     "output_type": "stream",
     "text": [
      "The distribution of the length of comments:\n",
      "Mean: 394.07; Standard Diviation: 590.72; Max: 5000\n"
     ]
    }
   ],
   "source": [
    "lens = train.comment_text.str.len()\n",
    "print('The distribution of the length of comments:')\n",
    "print('Mean: %.2f; Standard Diviation: %.2f; Max: %d'%(lens.mean(), lens.std(), lens.max()))\n"
   ]
  },
  {
   "cell_type": "code",
   "execution_count": 16,
   "metadata": {
    "_cell_guid": "d2e55012-4736-425f-84f3-c148ac1f4852",
    "_uuid": "eb68f1c83a5ad11e652ca5f2150993a06d43edb4"
   },
   "outputs": [
    {
     "data": {
      "image/png": "[encoded data removed]",
      "text/plain": [
       "<Figure size 864x288 with 1 Axes>"
      ]
     },
     "metadata": {
      "needs_background": "light"
     },
     "output_type": "display_data"
    }
   ],
   "source": [
    "plt.figure(figsize=(12, 4))\n",
    "lens.hist(bins=150,density=False);\n",
    "plt.title(\"Histogram of the length of the comments\")\n",
    "plt.show()"
   ]
  },
  {
   "cell_type": "markdown",
   "metadata": {},
   "source": [
    "## Checking missing data"
   ]
  },
  {
   "cell_type": "code",
   "execution_count": 17,
   "metadata": {},
   "outputs": [
    {
     "name": "stdout",
     "output_type": "stream",
     "text": [
      "Missing value in the training data:\n",
      "id               0\n",
      "comment_text     0\n",
      "toxic            0\n",
      "severe_toxic     0\n",
      "obscene          0\n",
      "threat           0\n",
      "insult           0\n",
      "identity_hate    0\n",
      "dtype: int64\n",
      "Missing value in the test data:\n",
      "id              0\n",
      "comment_text    0\n",
      "dtype: int64\n"
     ]
    }
   ],
   "source": [
    "print('Missing value in the training data:')\n",
    "print(train.isnull().sum())\n",
    "print('Missing value in the test data:')\n",
    "print(test.isnull().sum())"
   ]
  },
  {
   "cell_type": "markdown",
   "metadata": {
    "_cell_guid": "b8515824-b2dd-4c95-bbf9-dc74c80355db",
    "_uuid": "0151ab55887071aed82d297acb2c6545ed964c2b"
   },
   "source": [
    "## Creating an additional label\n",
    "\n",
    "We do this because we can see how many comments have no labels. \n"
   ]
  },
  {
   "cell_type": "code",
   "execution_count": 18,
   "metadata": {
    "_cell_guid": "c66f79d1-1d9f-4d94-82c1-8026af198f2a",
    "_uuid": "4ba6ef86c82f073bf411785d971a694348c3efa9"
   },
   "outputs": [
    {
     "data": {
      "text/plain": [
       "Index(['id', 'comment_text', 'toxic', 'severe_toxic', 'obscene', 'threat',\n",
       "       'insult', 'identity_hate', 'none'],\n",
       "      dtype='object')"
      ]
     },
     "execution_count": 18,
     "metadata": {},
     "output_type": "execute_result"
    }
   ],
   "source": [
    "label_cols = ['toxic', 'severe_toxic', 'obscene', 'threat', 'insult', 'identity_hate']\n",
    "train['none'] = 1-train[label_cols].max(axis=1)\n",
    "train.columns"
   ]
  },
  {
   "cell_type": "markdown",
   "metadata": {},
   "source": [
    "## Descriptive statistics"
   ]
  },
  {
   "cell_type": "code",
   "execution_count": 19,
   "metadata": {
    "_cell_guid": "c66f79d1-1d9f-4d94-82c1-8026af198f2a",
    "_uuid": "4ba6ef86c82f073bf411785d971a694348c3efa9"
   },
   "outputs": [
    {
     "data": {
      "text/html": [
       "<div>\n",
       "<style scoped>\n",
       "    .dataframe tbody tr th:only-of-type {\n",
       "        vertical-align: middle;\n",
       "    }\n",
       "\n",
       "    .dataframe tbody tr th {\n",
       "        vertical-align: top;\n",
       "    }\n",
       "\n",
       "    .dataframe thead th {\n",
       "        text-align: right;\n",
       "    }\n",
       "</style>\n",
       "<table border=\"1\" class=\"dataframe\">\n",
       "  <thead>\n",
       "    <tr style=\"text-align: right;\">\n",
       "      <th></th>\n",
       "      <th>toxic</th>\n",
       "      <th>severe_toxic</th>\n",
       "      <th>obscene</th>\n",
       "      <th>threat</th>\n",
       "      <th>insult</th>\n",
       "      <th>identity_hate</th>\n",
       "      <th>none</th>\n",
       "    </tr>\n",
       "  </thead>\n",
       "  <tbody>\n",
       "    <tr>\n",
       "      <td>count</td>\n",
       "      <td>159571.000000</td>\n",
       "      <td>159571.000000</td>\n",
       "      <td>159571.000000</td>\n",
       "      <td>159571.000000</td>\n",
       "      <td>159571.000000</td>\n",
       "      <td>159571.000000</td>\n",
       "      <td>159571.000000</td>\n",
       "    </tr>\n",
       "    <tr>\n",
       "      <td>mean</td>\n",
       "      <td>0.095844</td>\n",
       "      <td>0.009996</td>\n",
       "      <td>0.052948</td>\n",
       "      <td>0.002996</td>\n",
       "      <td>0.049364</td>\n",
       "      <td>0.008805</td>\n",
       "      <td>0.898321</td>\n",
       "    </tr>\n",
       "    <tr>\n",
       "      <td>std</td>\n",
       "      <td>0.294379</td>\n",
       "      <td>0.099477</td>\n",
       "      <td>0.223931</td>\n",
       "      <td>0.054650</td>\n",
       "      <td>0.216627</td>\n",
       "      <td>0.093420</td>\n",
       "      <td>0.302226</td>\n",
       "    </tr>\n",
       "    <tr>\n",
       "      <td>min</td>\n",
       "      <td>0.000000</td>\n",
       "      <td>0.000000</td>\n",
       "      <td>0.000000</td>\n",
       "      <td>0.000000</td>\n",
       "      <td>0.000000</td>\n",
       "      <td>0.000000</td>\n",
       "      <td>0.000000</td>\n",
       "    </tr>\n",
       "    <tr>\n",
       "      <td>25%</td>\n",
       "      <td>0.000000</td>\n",
       "      <td>0.000000</td>\n",
       "      <td>0.000000</td>\n",
       "      <td>0.000000</td>\n",
       "      <td>0.000000</td>\n",
       "      <td>0.000000</td>\n",
       "      <td>1.000000</td>\n",
       "    </tr>\n",
       "    <tr>\n",
       "      <td>50%</td>\n",
       "      <td>0.000000</td>\n",
       "      <td>0.000000</td>\n",
       "      <td>0.000000</td>\n",
       "      <td>0.000000</td>\n",
       "      <td>0.000000</td>\n",
       "      <td>0.000000</td>\n",
       "      <td>1.000000</td>\n",
       "    </tr>\n",
       "    <tr>\n",
       "      <td>75%</td>\n",
       "      <td>0.000000</td>\n",
       "      <td>0.000000</td>\n",
       "      <td>0.000000</td>\n",
       "      <td>0.000000</td>\n",
       "      <td>0.000000</td>\n",
       "      <td>0.000000</td>\n",
       "      <td>1.000000</td>\n",
       "    </tr>\n",
       "    <tr>\n",
       "      <td>max</td>\n",
       "      <td>1.000000</td>\n",
       "      <td>1.000000</td>\n",
       "      <td>1.000000</td>\n",
       "      <td>1.000000</td>\n",
       "      <td>1.000000</td>\n",
       "      <td>1.000000</td>\n",
       "      <td>1.000000</td>\n",
       "    </tr>\n",
       "  </tbody>\n",
       "</table>\n",
       "</div>"
      ],
      "text/plain": [
       "               toxic   severe_toxic        obscene         threat  \\\n",
       "count  159571.000000  159571.000000  159571.000000  159571.000000   \n",
       "mean        0.095844       0.009996       0.052948       0.002996   \n",
       "std         0.294379       0.099477       0.223931       0.054650   \n",
       "min         0.000000       0.000000       0.000000       0.000000   \n",
       "25%         0.000000       0.000000       0.000000       0.000000   \n",
       "50%         0.000000       0.000000       0.000000       0.000000   \n",
       "75%         0.000000       0.000000       0.000000       0.000000   \n",
       "max         1.000000       1.000000       1.000000       1.000000   \n",
       "\n",
       "              insult  identity_hate           none  \n",
       "count  159571.000000  159571.000000  159571.000000  \n",
       "mean        0.049364       0.008805       0.898321  \n",
       "std         0.216627       0.093420       0.302226  \n",
       "min         0.000000       0.000000       0.000000  \n",
       "25%         0.000000       0.000000       1.000000  \n",
       "50%         0.000000       0.000000       1.000000  \n",
       "75%         0.000000       0.000000       1.000000  \n",
       "max         1.000000       1.000000       1.000000  "
      ]
     },
     "execution_count": 19,
     "metadata": {},
     "output_type": "execute_result"
    }
   ],
   "source": [
    "train.describe()"
   ]
  },
  {
   "cell_type": "markdown",
   "metadata": {
    "_cell_guid": "1b221e62-e23f-422a-939d-6747edf2d613",
    "_uuid": "bfdcf59624717b37ca4ffc0c99d2c28a2d419b06"
   },
   "source": [
    "## Fulfilling empty comments"
   ]
  },
  {
   "cell_type": "code",
   "execution_count": 20,
   "metadata": {
    "_cell_guid": "fdba531c-7ef2-4967-88e2-fc2b04f6f2ef",
    "_uuid": "1e1229f403225f1889c7a7b4fc9be90fda818af5"
   },
   "outputs": [],
   "source": [
    "COMMENT = 'comment_text'\n",
    "train[COMMENT].fillna(\"unknown\", inplace=True)\n",
    "test[COMMENT].fillna(\"unknown\", inplace=True)"
   ]
  },
  {
   "cell_type": "markdown",
   "metadata": {
    "_cell_guid": "480780f1-00c0-4f9a-81e5-fc1932516a80",
    "_uuid": "f2e77e8e6df5e29b620c7a2a0add1438c35af932"
   },
   "source": [
    "# Data preparation\n",
    "\n",
    "Our target features are the labeled comments and the explanatory variables are comments. The type of the target features are to belong to the binary variables. Thus, we need to convert our explanatory variables, here is the text-formated comments, into the numerical type. To this end, the $\\textbf{Term Frequency-Inverse Document Frequency}$, well-known as $\\textbf{TF-IDF}$, is typically computed.\n",
    "\n",
    " We'll start by creating a *bag of words* representation, as a *term document matrix*.\n",
    " \n",
    " ## Creating a bage of words"
   ]
  },
  {
   "cell_type": "code",
   "execution_count": 23,
   "metadata": {
    "_cell_guid": "b7f11db7-5c12-4eb8-9f2d-0323d629fed9",
    "_uuid": "b043a3fb66c443fab0129e863c134ec813dadb87"
   },
   "outputs": [
    {
     "data": {
      "text/plain": [
       "re.compile(r'([!\"#$%&\\'()*+,-./:;<=>?@[\\]^_`{|}~“”¨«»®´·º½¾¿¡§£₤‘’])',\n",
       "re.UNICODE)"
      ]
     },
     "execution_count": 23,
     "metadata": {},
     "output_type": "execute_result"
    }
   ],
   "source": [
    "import re, string\n",
    "re_tok = re.compile(f'([{string.punctuation}“”¨«»®´·º½¾¿¡§£₤‘’])')\n",
    "re_tok"
   ]
  },
  {
   "cell_type": "code",
   "execution_count": 24,
   "metadata": {
    "_cell_guid": "b7f11db7-5c12-4eb8-9f2d-0323d629fed9",
    "_uuid": "b043a3fb66c443fab0129e863c134ec813dadb87"
   },
   "outputs": [],
   "source": [
    "def tokenize(s): \n",
    "    return re_tok.sub(r' \\1 ', s).split()"
   ]
  },
  {
   "cell_type": "markdown",
   "metadata": {},
   "source": [
    "We need to compute the TFIDF score for your documents, here comments. First, let's compute it manually.\n",
    "\n",
    "## Manual\n",
    "\n",
    "One can refer to\n",
    "https://kavita-ganesan.com/tfidftransformer-tfidfvectorizer-usage-differences/#.XlcQCxMza1s\n",
    "### Initialize CountVectorizer\n",
    "\n",
    "In order to start using TfidfTransformer you will first have to create a CountVectorizer to count the number of words (term frequency), limit your vocabulary size, apply stop words and etc"
   ]
  },
  {
   "cell_type": "code",
   "execution_count": 25,
   "metadata": {},
   "outputs": [
    {
     "data": {
      "text/plain": [
       "CountVectorizer(analyzer='word', binary=False, decode_error='strict',\n",
       "                dtype=<class 'numpy.int64'>, encoding='utf-8', input='content',\n",
       "                lowercase=True, max_df=1.0, max_features=None, min_df=1,\n",
       "                ngram_range=(1, 1), preprocessor=None, stop_words=None,\n",
       "                strip_accents=None, token_pattern='(?u)\\\\b\\\\w\\\\w+\\\\b',\n",
       "                tokenizer=None, vocabulary=None)"
      ]
     },
     "execution_count": 25,
     "metadata": {},
     "output_type": "execute_result"
    }
   ],
   "source": [
    "cv=CountVectorizer()\n",
    "cv"
   ]
  },
  {
   "cell_type": "markdown",
   "metadata": {},
   "source": [
    "### Computing term of frequency\n",
    "\n",
    "Term frequency: \n",
    "\n",
    "Suppose we have a set of English text documents and wish to rank which document is most relevant to the query, \"the brown cow\". A simple way to start out is by eliminating documents that do not contain all three words \"the\", \"brown\", and \"cow\", but this still leaves many documents. To further distinguish them, we might count the number of times each term occurs in each document; the number of times a term occurs in a document is called its term frequency. However, in the case where the length of documents varies greatly, adjustments are often made (see definition below)\n",
    "\n",
    "https://en.wikipedia.org/wiki/Tf%E2%80%93idf\n",
    "\n",
    "This steps generates word counts for the words in your docs, here is the comments"
   ]
  },
  {
   "cell_type": "code",
   "execution_count": 26,
   "metadata": {},
   "outputs": [],
   "source": [
    "word_count_vector=cv.fit_transform(train[COMMENT])"
   ]
  },
  {
   "cell_type": "code",
   "execution_count": 27,
   "metadata": {},
   "outputs": [
    {
     "data": {
      "text/plain": [
       "<159571x189775 sparse matrix of type '<class 'numpy.int64'>'\n",
       "\twith 6949691 stored elements in Compressed Sparse Row format>"
      ]
     },
     "execution_count": 27,
     "metadata": {},
     "output_type": "execute_result"
    }
   ],
   "source": [
    "word_count_vector"
   ]
  },
  {
   "cell_type": "code",
   "execution_count": 28,
   "metadata": {},
   "outputs": [
    {
     "name": "stdout",
     "output_type": "stream",
     "text": [
      "  (0, 62514)\t1\n",
      "  (0, 181219)\t1\n",
      "  (0, 165439)\t3\n",
      "  (0, 57020)\t1\n",
      "  (0, 102805)\t1\n",
      "  (0, 172691)\t1\n",
      "  (0, 113373)\t1\n",
      "  (0, 175025)\t1\n",
      "  (0, 76897)\t1\n",
      "  (0, 107934)\t1\n",
      "  (0, 63803)\t1\n",
      "  (0, 180427)\t1\n",
      "  (0, 141678)\t1\n",
      "  (0, 166138)\t1\n",
      "  (0, 180436)\t1\n",
      "  (0, 175897)\t1\n",
      "  (0, 91648)\t1\n",
      "  (0, 39059)\t1\n",
      "  (0, 120889)\t1\n",
      "  (0, 154899)\t1\n",
      "  (0, 70307)\t1\n",
      "  (0, 12840)\t1\n",
      "  (0, 178394)\t1\n",
      "  (0, 20700)\t1\n",
      "  (0, 116025)\t1\n",
      "  :\t:\n",
      "  (159570, 16155)\t2\n",
      "  (159570, 53979)\t1\n",
      "  (159570, 137827)\t1\n",
      "  (159570, 86288)\t1\n",
      "  (159570, 120045)\t2\n",
      "  (159570, 166250)\t1\n",
      "  (159570, 185845)\t2\n",
      "  (159570, 77501)\t1\n",
      "  (159570, 180706)\t1\n",
      "  (159570, 179470)\t1\n",
      "  (159570, 72696)\t1\n",
      "  (159570, 165722)\t1\n",
      "  (159570, 33228)\t1\n",
      "  (159570, 78656)\t1\n",
      "  (159570, 22801)\t2\n",
      "  (159570, 172820)\t1\n",
      "  (159570, 72887)\t1\n",
      "  (159570, 142378)\t1\n",
      "  (159570, 40739)\t1\n",
      "  (159570, 22033)\t2\n",
      "  (159570, 94277)\t1\n",
      "  (159570, 82756)\t1\n",
      "  (159570, 82782)\t1\n",
      "  (159570, 141839)\t1\n",
      "  (159570, 78394)\t1\n"
     ]
    }
   ],
   "source": [
    "print(word_count_vector)"
   ]
  },
  {
   "cell_type": "markdown",
   "metadata": {},
   "source": [
    "Now, let’s check the shape. "
   ]
  },
  {
   "cell_type": "code",
   "execution_count": 29,
   "metadata": {},
   "outputs": [
    {
     "name": "stdout",
     "output_type": "stream",
     "text": [
      "The number of comments: 159571. The number of words: 189775\n"
     ]
    }
   ],
   "source": [
    "print('The number of comments: %d. The number of words: %d'%(word_count_vector.shape))"
   ]
  },
  {
   "cell_type": "markdown",
   "metadata": {},
   "source": [
    "$$\\textbf{Comments:}$$\n",
    "There are 189,775 unique words in 159,572 comments. It is worth noting that the number of words are a number of unique words, minus single character words.\n",
    "\n",
    "Sweet, this is what we want! Now it’s time to compute the IDFs. Note that in this example, we are using all the defaults with CountVectorizer. You can actually specify a custom stop word list, enforce minimum word count, etc. See this article on\n",
    "\n",
    "https://kavita-ganesan.com/how-to-use-countvectorizer/#.XleT-BMzZPM\n",
    "\n",
    "### Compute the IDF values\n",
    "\n",
    "Inverse document frequency (IDF) is a measure of how much information the word provides, i.e., if it's common or rare across all documents. It is the logarithmically scaled inverse fraction of the documents that contain the word (obtained by dividing the total number of documents by the number of documents containing the term, and then taking the logarithm of that quotient):\n",
    "\n",
    "https://en.wikipedia.org/wiki/Tf%E2%80%93idf\n",
    "\n",
    "Because the term \"the\" is so common, term frequency will tend to incorrectly emphasize documents which happen to use the word \"the\" more frequently, without giving enough weight to the more meaningful terms \"brown\" and \"cow\". The term \"the\" is not a good keyword to distinguish relevant and non-relevant documents and terms, unlike the less-common words \"brown\" and \"cow\". Hence an inverse document frequency factor is incorporated which diminishes the weight of terms that occur very frequently in the document set and increases the weight of terms that occur rarely.\n",
    "#### Defining function"
   ]
  },
  {
   "cell_type": "code",
   "execution_count": 30,
   "metadata": {},
   "outputs": [],
   "source": [
    "tfidf_transformer=TfidfTransformer(smooth_idf=True,use_idf=True)"
   ]
  },
  {
   "cell_type": "markdown",
   "metadata": {},
   "source": [
    "#### Computing IDF values"
   ]
  },
  {
   "cell_type": "code",
   "execution_count": 31,
   "metadata": {},
   "outputs": [
    {
     "data": {
      "text/plain": [
       "TfidfTransformer(norm='l2', smooth_idf=True, sublinear_tf=False, use_idf=True)"
      ]
     },
     "execution_count": 31,
     "metadata": {},
     "output_type": "execute_result"
    }
   ],
   "source": [
    "tfidf_transformer.fit(word_count_vector)"
   ]
  },
  {
   "cell_type": "markdown",
   "metadata": {},
   "source": [
    "$$\\textbf{Comments:}$$\n",
    "To get a glimpse of how the IDF values look, we are going to print it by placing the IDF values in a python DataFrame. Let's print idf values as follows."
   ]
  },
  {
   "cell_type": "code",
   "execution_count": 32,
   "metadata": {},
   "outputs": [],
   "source": [
    "df_idf = pd.DataFrame(tfidf_transformer.idf_, index=cv.get_feature_names(),\n",
    "                      columns=[\"idf_weights\"])"
   ]
  },
  {
   "cell_type": "code",
   "execution_count": 33,
   "metadata": {},
   "outputs": [
    {
     "name": "stdout",
     "output_type": "stream",
     "text": [
      "\u001b[1mThe first five words:\u001b[0m\n",
      "        idf_weights\n",
      "00         6.495615\n",
      "000        5.894349\n",
      "0000      10.783026\n",
      "00000     11.881638\n",
      "000000     7.989818\n",
      "\u001b[1mThe last five words:\u001b[0m\n",
      "           idf_weights\n",
      "ｗｗｗ          12.287103\n",
      "ｳｨｷﾍﾟﾃﾞｨｱ    12.287103\n",
      "𐌰𐌹           12.287103\n",
      "𐌰𐌿           12.287103\n",
      "𐌴𐌹           12.287103\n"
     ]
    }
   ],
   "source": [
    "print(Bold+'The first five words:'+ End)\n",
    "print(df_idf.head())\n",
    "print(Bold+'The last five words:'+ End)\n",
    "print(df_idf.tail())"
   ]
  },
  {
   "cell_type": "markdown",
   "metadata": {},
   "source": [
    "$$\\textbf{Comments:}$$\n",
    "It is worth noting that the lower the IDF value of a word, the less unique it is to any particular document. Once you have the IDF values, you can now compute the tf-idf scores for any document or set of documents. Let’s compute tf-idf scores for 159,572 comments in our dataset.\n",
    "\n",
    "### Compute the TFIDF scores\n",
    "#### Count matrix\n",
    "\n",
    "The first line above, gets the word counts for the documents in a sparse matrix form. We could have actually used word_count_vector from above. However, in practice, you may be computing tf-idf scores on a set of new unseen documents. When you do that, you will first have to do cv.transform(your_new_docs) to generate the matrix of word counts."
   ]
  },
  {
   "cell_type": "code",
   "execution_count": 34,
   "metadata": {},
   "outputs": [],
   "source": [
    "count_vector=cv.transform(train[COMMENT])"
   ]
  },
  {
   "cell_type": "code",
   "execution_count": 35,
   "metadata": {},
   "outputs": [
    {
     "data": {
      "text/plain": [
       "<159571x189775 sparse matrix of type '<class 'numpy.int64'>'\n",
       "\twith 6949691 stored elements in Compressed Sparse Row format>"
      ]
     },
     "execution_count": 35,
     "metadata": {},
     "output_type": "execute_result"
    }
   ],
   "source": [
    "count_vector"
   ]
  },
  {
   "cell_type": "markdown",
   "metadata": {},
   "source": [
    "#### TF-IDF scores\n",
    "By invoking tfidf_transformer.transform(count_vector) you will finally be computing the tf-idf scores for your docs. Internally this is computing the tf * idf  multiplication where your term frequency is weighted by its IDF values."
   ]
  },
  {
   "cell_type": "code",
   "execution_count": 36,
   "metadata": {},
   "outputs": [],
   "source": [
    "tf_idf_vector=tfidf_transformer.transform(count_vector)"
   ]
  },
  {
   "cell_type": "code",
   "execution_count": null,
   "metadata": {},
   "outputs": [],
   "source": []
  },
  {
   "cell_type": "markdown",
   "metadata": {},
   "source": [
    "$$\\textbf{Comments:}$$\n",
    "Now, let’s print the tf-idf values of the first document to see if it makes sense. What we are doing below is, placing the tf-idf scores from the first document into a pandas data frame and sorting it in descending order of scores."
   ]
  },
  {
   "cell_type": "code",
   "execution_count": 37,
   "metadata": {},
   "outputs": [
    {
     "data": {
      "text/plain": [
       "['00',\n",
       " '000',\n",
       " '0000',\n",
       " '00000',\n",
       " '000000',\n",
       " '0000000',\n",
       " '00000000',\n",
       " '0000000027',\n",
       " '00000001',\n",
       " '00000003',\n",
       " '00000050',\n",
       " '000001',\n",
       " '000002',\n",
       " '000002000004000008000016',\n",
       " '0000030422',\n",
       " '0000035',\n",
       " '000023405011',\n",
       " '00004',\n",
       " '000045',\n",
       " '00007632',\n",
       " '000080',\n",
       " '00008b',\n",
       " '00009c',\n",
       " '0000z',\n",
       " '0001',\n",
       " '000111002',\n",
       " '00012',\n",
       " '000131088',\n",
       " '0002tree',\n",
       " '0003',\n",
       " '000319821',\n",
       " '00033',\n",
       " '00035',\n",
       " '000352',\n",
       " '00037',\n",
       " '00038',\n",
       " '0003º',\n",
       " '0004',\n",
       " '000500',\n",
       " '00052',\n",
       " '00053',\n",
       " '0006',\n",
       " '00075',\n",
       " '00098',\n",
       " '000_bucks',\n",
       " '000b01c5b9f8',\n",
       " '000feet',\n",
       " '000ft',\n",
       " '000http',\n",
       " '000hz',\n",
       " '000k',\n",
       " '000kg',\n",
       " '000km',\n",
       " '000lb',\n",
       " '000poland2',\n",
       " '000s',\n",
       " '000shp',\n",
       " '000soviet',\n",
       " '000th',\n",
       " '000unknownunknown',\n",
       " '000unknownunknownhungary',\n",
       " '000unknownunknownitaly',\n",
       " '000unknownunknownromania3',\n",
       " '000unknownunknowntotal',\n",
       " '000v',\n",
       " '000x',\n",
       " '000z',\n",
       " '001',\n",
       " '0010',\n",
       " '00107',\n",
       " '0010steve',\n",
       " '0011',\n",
       " '001200405140111',\n",
       " '00122',\n",
       " '00136hg',\n",
       " '0014',\n",
       " '00144feab7de',\n",
       " '0015',\n",
       " '00151',\n",
       " '0016',\n",
       " '00164',\n",
       " '0017',\n",
       " '00175',\n",
       " '0018',\n",
       " '001811',\n",
       " '00184',\n",
       " '002',\n",
       " '0020143',\n",
       " '0022',\n",
       " '00223',\n",
       " '00229',\n",
       " '00242',\n",
       " '0025',\n",
       " '00262',\n",
       " '0028',\n",
       " '002912',\n",
       " '0029224608',\n",
       " '00293',\n",
       " '003',\n",
       " '0032',\n",
       " '00325',\n",
       " '00336',\n",
       " '0034',\n",
       " '003417',\n",
       " '0037',\n",
       " '003_resize',\n",
       " '004',\n",
       " '00402',\n",
       " '00409',\n",
       " '0042',\n",
       " '0049703',\n",
       " '005',\n",
       " '005003',\n",
       " '005113',\n",
       " '005176',\n",
       " '00518',\n",
       " '0052',\n",
       " '0055',\n",
       " '0055bb',\n",
       " '00579',\n",
       " '0058',\n",
       " '00587',\n",
       " '0059',\n",
       " '00595',\n",
       " '006',\n",
       " '0060544309',\n",
       " '0060882417',\n",
       " '0062700674',\n",
       " '006400',\n",
       " '007',\n",
       " '007191',\n",
       " '0072',\n",
       " '007damianfalco',\n",
       " '007fff',\n",
       " '008',\n",
       " '008000',\n",
       " '008768',\n",
       " '009',\n",
       " '009146',\n",
       " '00923147007006',\n",
       " '00923236916674',\n",
       " '0094',\n",
       " '009600',\n",
       " '00966568817680',\n",
       " '0099ff',\n",
       " '00aboutquackwatch',\n",
       " '00am',\n",
       " '00ber',\n",
       " '00c04fb6c2f5',\n",
       " '00dd00',\n",
       " '00df',\n",
       " '00ff00',\n",
       " '00frodo',\n",
       " '00j0ail',\n",
       " '00pm',\n",
       " '00s',\n",
       " '00utc',\n",
       " '00z',\n",
       " '01',\n",
       " '010',\n",
       " '0100',\n",
       " '010001',\n",
       " '0101',\n",
       " '010181',\n",
       " '0101chiuwy',\n",
       " '0101nghk',\n",
       " '0101nialeung06',\n",
       " '0104pan04',\n",
       " '010651',\n",
       " '0108',\n",
       " '010912',\n",
       " '011',\n",
       " '0110',\n",
       " '0111',\n",
       " '0116',\n",
       " '01162',\n",
       " '0118',\n",
       " '011905_hubbard',\n",
       " '011945897',\n",
       " '012',\n",
       " '0120487500',\n",
       " '0123',\n",
       " '0124x',\n",
       " '0127',\n",
       " '013',\n",
       " '013078',\n",
       " '013353',\n",
       " '01384402728',\n",
       " '014',\n",
       " '01402',\n",
       " '0143',\n",
       " '014833',\n",
       " '015',\n",
       " '0150',\n",
       " '0155825',\n",
       " '0157',\n",
       " '015a',\n",
       " '016',\n",
       " '0163',\n",
       " '0164',\n",
       " '017',\n",
       " '01711',\n",
       " '01729',\n",
       " '017711',\n",
       " '018',\n",
       " '0187',\n",
       " '019',\n",
       " '0190',\n",
       " '01914176681',\n",
       " '0192151940',\n",
       " '01929',\n",
       " '0193367747',\n",
       " '019392',\n",
       " '0196',\n",
       " '0199245223',\n",
       " '01_bates_method',\n",
       " '01a',\n",
       " '01am',\n",
       " '01azur',\n",
       " '01bab82e',\n",
       " '01cc',\n",
       " '01d',\n",
       " '01duhamel',\n",
       " '01haus',\n",
       " '01miesenbach',\n",
       " '01ramstein',\n",
       " '01s',\n",
       " '01stadt',\n",
       " '01t14',\n",
       " '01w',\n",
       " '02',\n",
       " '0200',\n",
       " '0200000000akr20130707005953092',\n",
       " '02009',\n",
       " '0201',\n",
       " '020138',\n",
       " '02025',\n",
       " '020310aab',\n",
       " '0207',\n",
       " '0207141096',\n",
       " '02082000',\n",
       " '02088982252',\n",
       " '0208hrs',\n",
       " '02092',\n",
       " '021',\n",
       " '0211',\n",
       " '02139',\n",
       " '0216',\n",
       " '021606pm',\n",
       " '0220z',\n",
       " '02215',\n",
       " '022201c000c4',\n",
       " '02242009',\n",
       " '023',\n",
       " '0230',\n",
       " '0231130104',\n",
       " '024',\n",
       " '0241',\n",
       " '0245z',\n",
       " '025',\n",
       " '0258',\n",
       " '026',\n",
       " '0261',\n",
       " '02634',\n",
       " '027',\n",
       " '027597675',\n",
       " '0278',\n",
       " '0278916430',\n",
       " '028',\n",
       " '02811',\n",
       " '0283',\n",
       " '0287221',\n",
       " '02903',\n",
       " '02_48',\n",
       " '02_offers_services',\n",
       " '02bb',\n",
       " '02c8',\n",
       " '02ccdev',\n",
       " '02d',\n",
       " '02dead',\n",
       " '02e0',\n",
       " '02e1',\n",
       " '02free',\n",
       " '02newli',\n",
       " '02s',\n",
       " '02wwe',\n",
       " '03',\n",
       " '030',\n",
       " '0300089236',\n",
       " '0300z',\n",
       " '0301',\n",
       " '030214',\n",
       " '0304',\n",
       " '030609',\n",
       " '030723',\n",
       " '031',\n",
       " '0311',\n",
       " '0312254598',\n",
       " '03155',\n",
       " '0317',\n",
       " '032',\n",
       " '03210',\n",
       " '03215',\n",
       " '03216u',\n",
       " '03220',\n",
       " '03225',\n",
       " '03230',\n",
       " '03235',\n",
       " '03240',\n",
       " '0325',\n",
       " '03275',\n",
       " '033',\n",
       " '0339',\n",
       " '033988391',\n",
       " '034',\n",
       " '0345',\n",
       " '0345346297',\n",
       " '035',\n",
       " '03547',\n",
       " '03549',\n",
       " '03561',\n",
       " '035id',\n",
       " '036',\n",
       " '036513',\n",
       " '038',\n",
       " '0382299275',\n",
       " '0385237162',\n",
       " '0385238800',\n",
       " '039',\n",
       " '0393322521',\n",
       " '0395851823',\n",
       " '0396523a0b89',\n",
       " '0399390',\n",
       " '039b',\n",
       " '03alpe01',\n",
       " '03c',\n",
       " '03c6',\n",
       " '03d5',\n",
       " '03dqvjhkt6bdpafnak2z',\n",
       " '03f5',\n",
       " '03ff',\n",
       " '03jur',\n",
       " '03pm',\n",
       " '03sep09',\n",
       " '03sept07consultation',\n",
       " '03t04',\n",
       " '03truro16',\n",
       " '04',\n",
       " '040',\n",
       " '0400',\n",
       " '040206',\n",
       " '040255',\n",
       " '0404',\n",
       " '040628crbo_books1',\n",
       " '041',\n",
       " '0413',\n",
       " '0415',\n",
       " '0415289556',\n",
       " '0415933366',\n",
       " '0415969107',\n",
       " '0416',\n",
       " '0417',\n",
       " '0418jeff',\n",
       " '0419109',\n",
       " '0419476',\n",
       " '0422',\n",
       " '04242',\n",
       " '0429hrs',\n",
       " '043',\n",
       " '0430am',\n",
       " '04356',\n",
       " '0437',\n",
       " '044',\n",
       " '0440',\n",
       " '0440567351',\n",
       " '0445z',\n",
       " '044793',\n",
       " '045jp7',\n",
       " '046',\n",
       " '04645',\n",
       " '0467',\n",
       " '047',\n",
       " '0471683345',\n",
       " '048',\n",
       " '0486407268',\n",
       " '049',\n",
       " '0495',\n",
       " '049774',\n",
       " '0498',\n",
       " '04980',\n",
       " '04arnols',\n",
       " '04d',\n",
       " '04sanders',\n",
       " '04ss',\n",
       " '05',\n",
       " '050',\n",
       " '0500z',\n",
       " '0501',\n",
       " '0505',\n",
       " '050808klare',\n",
       " '051115',\n",
       " '051211',\n",
       " '0514560',\n",
       " '0521270642',\n",
       " '0521365147',\n",
       " '0522',\n",
       " '052308',\n",
       " '0525z',\n",
       " '05263',\n",
       " '0528dude',\n",
       " '053',\n",
       " '0535',\n",
       " '0536',\n",
       " '055',\n",
       " '056359',\n",
       " '0567',\n",
       " '057',\n",
       " '0576',\n",
       " '058',\n",
       " '058133',\n",
       " '058162',\n",
       " '0582493242',\n",
       " '059',\n",
       " '0595292690',\n",
       " '0595333001',\n",
       " '05am',\n",
       " '05b',\n",
       " '05d',\n",
       " '05kerala',\n",
       " '05mm',\n",
       " '05raman',\n",
       " '05reading',\n",
       " '05schimmel',\n",
       " '05t10',\n",
       " '05z',\n",
       " '06',\n",
       " '0600z',\n",
       " '0601',\n",
       " '0603286e',\n",
       " '060522',\n",
       " '0608',\n",
       " '060910',\n",
       " '061',\n",
       " '0611',\n",
       " '06115',\n",
       " '0612',\n",
       " '061201bb4f1d8677dff9651a7a216ec8',\n",
       " '0614',\n",
       " '06141201_tricolore',\n",
       " '0614v1',\n",
       " '0615',\n",
       " '0616',\n",
       " '062',\n",
       " '06201',\n",
       " '063clxib8i',\n",
       " '064',\n",
       " '0642hrs',\n",
       " '0645ad',\n",
       " '06467',\n",
       " '065',\n",
       " '0650',\n",
       " '0658',\n",
       " '0669397180',\n",
       " '067',\n",
       " '0671760505',\n",
       " '0674006623',\n",
       " '0684822628',\n",
       " '06848657680',\n",
       " '069',\n",
       " '0691',\n",
       " '069131994',\n",
       " '06_22',\n",
       " '06_26_02',\n",
       " '06_december_2011',\n",
       " '06am',\n",
       " '06d',\n",
       " '06t10',\n",
       " '06t20',\n",
       " '06xto3jpuuw',\n",
       " '07',\n",
       " '070',\n",
       " '070113_duke',\n",
       " '070208',\n",
       " '0703_sig_april_2003',\n",
       " '0704',\n",
       " '070605',\n",
       " '070614',\n",
       " '0707397',\n",
       " '070810',\n",
       " '0709',\n",
       " '071',\n",
       " '0711',\n",
       " '0713990619',\n",
       " '0714',\n",
       " '0714631205',\n",
       " '07172007',\n",
       " '0718',\n",
       " '071828895',\n",
       " '071834',\n",
       " '071d49',\n",
       " '072',\n",
       " '0722skull',\n",
       " '073',\n",
       " '0730z',\n",
       " '0732224055',\n",
       " '0738202711',\n",
       " '073875',\n",
       " '074',\n",
       " '0740',\n",
       " '0742',\n",
       " '0742562964',\n",
       " '075',\n",
       " '0751aa',\n",
       " '0753827085',\n",
       " '0759898',\n",
       " '075mm',\n",
       " '076',\n",
       " '0764',\n",
       " '0766',\n",
       " '076a21',\n",
       " '077352911x',\n",
       " '077387',\n",
       " '07772550782',\n",
       " '07791',\n",
       " '078',\n",
       " '0781732816',\n",
       " '078664687x',\n",
       " '0786674563',\n",
       " '079',\n",
       " '0791083071',\n",
       " '079145553xrudy',\n",
       " '07981',\n",
       " '07_news_releases',\n",
       " '07_several_guantanamo_bay',\n",
       " '07am',\n",
       " '07devonport',\n",
       " '07tnfzedzz8',\n",
       " '08',\n",
       " '0801882052',\n",
       " '0802118275',\n",
       " '081',\n",
       " '0810939932',\n",
       " '0815',\n",
       " '0815340583',\n",
       " '08162008',\n",
       " '0816mankindtafkag',\n",
       " '081840499x',\n",
       " '082',\n",
       " '0823088308',\n",
       " '0828',\n",
       " '084080',\n",
       " '08440019384',\n",
       " '085',\n",
       " '0853',\n",
       " '08540',\n",
       " '086',\n",
       " '0861931270',\n",
       " '087',\n",
       " '087209',\n",
       " '0873488245',\n",
       " '0877277230',\n",
       " '0878332685',\n",
       " '088',\n",
       " '088454',\n",
       " '0885',\n",
       " '088749',\n",
       " '089',\n",
       " '0893569828',\n",
       " '08bst',\n",
       " '08d',\n",
       " '08e',\n",
       " '08mesenatecounties',\n",
       " '08newton',\n",
       " '08prexy',\n",
       " '08t',\n",
       " '08t13',\n",
       " '09',\n",
       " '090',\n",
       " '09012207',\n",
       " '090505',\n",
       " '090511181356',\n",
       " '090624_hells_kitchen_6_contestants_ad',\n",
       " '0908',\n",
       " '090908',\n",
       " '0910311205',\n",
       " '091031120x',\n",
       " '0910311922',\n",
       " '0910311927',\n",
       " '0912',\n",
       " '0914',\n",
       " '0918',\n",
       " '092',\n",
       " '092816',\n",
       " '093',\n",
       " '093039236',\n",
       " '0932',\n",
       " '094',\n",
       " '0945',\n",
       " '095',\n",
       " '0952w',\n",
       " '096',\n",
       " '09630',\n",
       " '0966662412',\n",
       " '0966662415',\n",
       " '097',\n",
       " '09733',\n",
       " '098',\n",
       " '09890283390',\n",
       " '099',\n",
       " '0999',\n",
       " '09blair',\n",
       " '09d',\n",
       " '09f',\n",
       " '09phineas',\n",
       " '09月号',\n",
       " '0_0',\n",
       " '0_59t8sgi6xd0qgropthdg',\n",
       " '0_about',\n",
       " '0_o',\n",
       " '0a',\n",
       " '0a1',\n",
       " '0a8',\n",
       " '0am',\n",
       " '0b',\n",
       " '0b013e31824a7b8e',\n",
       " '0b4',\n",
       " '0bed2560',\n",
       " '0beta',\n",
       " '0cakq_auoaa',\n",
       " '0cbsq6aewaa',\n",
       " '0cbsq6aewadgu',\n",
       " '0cc8q6aewatgo',\n",
       " '0ccgq6aewadgu',\n",
       " '0cciq6aewatge',\n",
       " '0ccmq6aewaa',\n",
       " '0ccqq6aewadgk',\n",
       " '0ccsq6aewaq',\n",
       " '0ccsq6aewcg',\n",
       " '0ccsqqqiwaq',\n",
       " '0ccwq6aewaa',\n",
       " '0ccwq6aewag',\n",
       " '0ccwq6aewaw',\n",
       " '0cd4q6aewag',\n",
       " '0cdaq6aewaa',\n",
       " '0cdaqqgiwaa',\n",
       " '0cdeq6aewaa',\n",
       " '0cdeq6aewaq',\n",
       " '0cdgq6aewazgu',\n",
       " '0cdsq6aewag',\n",
       " '0cdwq6aewaa',\n",
       " '0cdwq6aewazgk',\n",
       " '0cdyq6aewadgk',\n",
       " '0cdyq6aewaq',\n",
       " '0cdyq6aewazgy',\n",
       " '0cdyq6aewbwovchmi_qekx_jixwivijmech0vmglk',\n",
       " '0ce0q6aewbg',\n",
       " '0ce0quwuwaw',\n",
       " '0ce8q6aewcq',\n",
       " '0cekq6aewbjgk',\n",
       " '0ceoq6aewba',\n",
       " '0ceoq6aewbg',\n",
       " '0ceqq6aewazge',\n",
       " '0cesq6aewba',\n",
       " '0ceuq6aewbq',\n",
       " '0ceyq6aewbq',\n",
       " '0cf8q6aewca',\n",
       " '0cfaq6aewctgu',\n",
       " '0cfcq6aewcq',\n",
       " '0cfkq6aewba',\n",
       " '0cfmq6aewca',\n",
       " '0cfuq6aewbw',\n",
       " '0cfuq6aewbzgk',\n",
       " '0cfwq6aewcq',\n",
       " '0cgaq6aewca',\n",
       " '0chmq6aewcq',\n",
       " '0d5c4ebc69fbb9bd9f37b47f8b0e1cef',\n",
       " '0e394f018fc9ff00vgnvcm1000002c567798rcrd',\n",
       " '0em',\n",
       " '0f',\n",
       " '0f78',\n",
       " '0fb3382ee6ad1e46',\n",
       " '0h',\n",
       " '0j0i10l9',\n",
       " '0j1j0j3j3',\n",
       " '0k',\n",
       " '0l4',\n",
       " '0m',\n",
       " '0m6hr',\n",
       " '0mf',\n",
       " '0mg',\n",
       " '0n',\n",
       " '0pb',\n",
       " '0pointer',\n",
       " '0px',\n",
       " '0q5pxmir2u',\n",
       " '0qs',\n",
       " '0r',\n",
       " '0rganizashun',\n",
       " '0rlp0a2qso8',\n",
       " '0rr',\n",
       " '0rz',\n",
       " '0st',\n",
       " '0t',\n",
       " '0th',\n",
       " '0therf',\n",
       " '0v',\n",
       " '0waldo',\n",
       " '0wn',\n",
       " '0x',\n",
       " '0x00',\n",
       " '0x01',\n",
       " '0x0104',\n",
       " '0x10',\n",
       " '0x66',\n",
       " '0x6a',\n",
       " '0x80',\n",
       " '0xc0',\n",
       " '0yg5en4k344',\n",
       " '0ºe',\n",
       " '0ºn',\n",
       " '0ºs',\n",
       " '0ºw',\n",
       " '10',\n",
       " '100',\n",
       " '1000',\n",
       " '10000',\n",
       " '100000',\n",
       " '1000000',\n",
       " '10000000',\n",
       " '100000000',\n",
       " '1000000000',\n",
       " '10000000000000',\n",
       " '100000000000000000',\n",
       " '1000000000000000000',\n",
       " '100000000000000000000000000000',\n",
       " '10000000000000000000000000000000000000000000',\n",
       " '1000000000x',\n",
       " '10000015',\n",
       " '100000179702430',\n",
       " '100000x',\n",
       " '100002283868363',\n",
       " '100005188847302',\n",
       " '100012570199',\n",
       " '100012987475',\n",
       " '100013198462',\n",
       " '100013390286',\n",
       " '100013392850',\n",
       " '100013393337',\n",
       " '100013397755',\n",
       " '100013400624',\n",
       " '100013404120',\n",
       " '100074',\n",
       " '1000americorps',\n",
       " '1000base',\n",
       " '1000ish',\n",
       " '1000kb',\n",
       " '1000kg',\n",
       " '1000mg',\n",
       " '1000mm',\n",
       " '1000mw',\n",
       " '1000s',\n",
       " '1000th',\n",
       " '1000x',\n",
       " '1001',\n",
       " '100104fa_fact_paumgarten',\n",
       " '10011',\n",
       " '100121_guion11',\n",
       " '10017',\n",
       " '10018',\n",
       " '1001eb',\n",
       " '1001mw',\n",
       " '1001st',\n",
       " '1002',\n",
       " '1003',\n",
       " '100303',\n",
       " '10032',\n",
       " '10037',\n",
       " '10044372',\n",
       " '1005',\n",
       " '1006',\n",
       " '100601',\n",
       " '10062',\n",
       " '1007',\n",
       " '1008',\n",
       " '1008041602',\n",
       " '1009',\n",
       " '10092',\n",
       " '10096',\n",
       " '100_club',\n",
       " '100e',\n",
       " '100er',\n",
       " '100f',\n",
       " '100ft',\n",
       " '100g',\n",
       " '100hz',\n",
       " '100i',\n",
       " '100ish',\n",
       " '100k',\n",
       " '100kb',\n",
       " '100km',\n",
       " '100lbs',\n",
       " '100lr',\n",
       " '100m',\n",
       " '100mb',\n",
       " '100mg',\n",
       " '100million',\n",
       " '100ml',\n",
       " '100px',\n",
       " '100s',\n",
       " '100th',\n",
       " '100this',\n",
       " '100ths',\n",
       " '100welshheroes',\n",
       " '100x',\n",
       " '100x37',\n",
       " '100years',\n",
       " '100μm',\n",
       " '101',\n",
       " '1010',\n",
       " '10101010',\n",
       " '1010110a',\n",
       " '101022_part1',\n",
       " '10105324',\n",
       " '1011',\n",
       " '101108',\n",
       " '1012',\n",
       " '10120',\n",
       " '101202',\n",
       " '1013',\n",
       " '101325atm',\n",
       " '10138',\n",
       " '1014',\n",
       " '1015',\n",
       " '10151204700074919',\n",
       " '1015380438_vcjcs',\n",
       " '1015392289_xmwsn',\n",
       " '1016',\n",
       " '1017',\n",
       " '10172',\n",
       " '101766',\n",
       " '10179',\n",
       " '1018',\n",
       " '101904762',\n",
       " '101automatic',\n",
       " '101facts',\n",
       " '101st',\n",
       " '102',\n",
       " '1020',\n",
       " '1020kg',\n",
       " '1021',\n",
       " '10212',\n",
       " '1022',\n",
       " '10220',\n",
       " '10234',\n",
       " '1023864406040',\n",
       " '1024',\n",
       " '10240344576',\n",
       " '102406',\n",
       " '1024x768',\n",
       " '1025',\n",
       " '10250',\n",
       " '10251171557',\n",
       " '10259295',\n",
       " '1026',\n",
       " '102656413',\n",
       " '1026kg',\n",
       " '10271059',\n",
       " '1028',\n",
       " '1028kg',\n",
       " '1029',\n",
       " '102cs2001',\n",
       " '103',\n",
       " '1030',\n",
       " '10304431_1433228970297217_7776256175788316562_n',\n",
       " '103163rm',\n",
       " '1032',\n",
       " '10324',\n",
       " '1033',\n",
       " '10335',\n",
       " '1034',\n",
       " '1036',\n",
       " '10360',\n",
       " '1036027034461',\n",
       " '103691',\n",
       " '1037',\n",
       " '1038',\n",
       " '103857',\n",
       " '104',\n",
       " '1040',\n",
       " '10400',\n",
       " '1041',\n",
       " '1042',\n",
       " '10427103',\n",
       " '1043',\n",
       " '1044182',\n",
       " '104493504',\n",
       " '1045',\n",
       " '10452lccc',\n",
       " '1046',\n",
       " '104628',\n",
       " '10465',\n",
       " '1047',\n",
       " '10479',\n",
       " '1048',\n",
       " '1048104',\n",
       " '1049',\n",
       " '104s',\n",
       " '105',\n",
       " '1050',\n",
       " '1051',\n",
       " '1051024',\n",
       " '1052',\n",
       " '1053',\n",
       " '1055',\n",
       " '1056',\n",
       " '105628675',\n",
       " '1059',\n",
       " '105929',\n",
       " '105947751',\n",
       " '105mm',\n",
       " '106',\n",
       " '1060',\n",
       " '106000',\n",
       " '1060524',\n",
       " '106053453',\n",
       " '1061',\n",
       " '1062',\n",
       " '1062783150',\n",
       " '10628',\n",
       " '1063',\n",
       " '1064521',\n",
       " '1066',\n",
       " '1066i',\n",
       " '1067',\n",
       " '1067220',\n",
       " '1068',\n",
       " '10681',\n",
       " '106882',\n",
       " '1069120',\n",
       " '10692',\n",
       " '106ad',\n",
       " '106mm',\n",
       " '107',\n",
       " '1070745',\n",
       " '107075',\n",
       " '1070m',\n",
       " '1071',\n",
       " '107133',\n",
       " '1072',\n",
       " '1074601',\n",
       " '1075',\n",
       " '1076',\n",
       " '1077',\n",
       " '1077753',\n",
       " '1078',\n",
       " '1079',\n",
       " '107b',\n",
       " '107º03',\n",
       " '108',\n",
       " '1080',\n",
       " '108037082',\n",
       " '108037200',\n",
       " '1080i',\n",
       " '1080p',\n",
       " '1081',\n",
       " '10816',\n",
       " '1081947',\n",
       " '1082',\n",
       " '10822',\n",
       " '108263',\n",
       " '1084',\n",
       " '1086757',\n",
       " '10873c',\n",
       " '10873t',\n",
       " '1088517',\n",
       " '1089211',\n",
       " '108k',\n",
       " '108th',\n",
       " '109',\n",
       " '1090',\n",
       " '1091',\n",
       " '1092',\n",
       " '10927899',\n",
       " '1092927',\n",
       " '109305029',\n",
       " '109346338',\n",
       " '10936',\n",
       " '10946496',\n",
       " '1095',\n",
       " '1097',\n",
       " '109739',\n",
       " '1098',\n",
       " '1099',\n",
       " '10994',\n",
       " '109e',\n",
       " '109f',\n",
       " '109g',\n",
       " '109kb',\n",
       " '109s',\n",
       " '109th',\n",
       " ...]"
      ]
     },
     "execution_count": 37,
     "metadata": {},
     "output_type": "execute_result"
    }
   ],
   "source": [
    "feature_names = cv.get_feature_names()\n",
    "feature_names"
   ]
  },
  {
   "cell_type": "code",
   "execution_count": 38,
   "metadata": {},
   "outputs": [],
   "source": [
    "#get tfidf vector for first document\n",
    "first_document_vector=tf_idf_vector[0]"
   ]
  },
  {
   "cell_type": "code",
   "execution_count": 39,
   "metadata": {},
   "outputs": [
    {
     "data": {
      "text/plain": [
       "<1x189775 sparse matrix of type '<class 'numpy.float64'>'\n",
       "\twith 43 stored elements in Compressed Sparse Row format>"
      ]
     },
     "execution_count": 39,
     "metadata": {},
     "output_type": "execute_result"
    }
   ],
   "source": [
    "first_document_vector"
   ]
  },
  {
   "cell_type": "code",
   "execution_count": 40,
   "metadata": {},
   "outputs": [
    {
     "data": {
      "text/plain": [
       "<bound method NDFrame.head of            tfidf\n",
       "00           0.0\n",
       "000          0.0\n",
       "0000         0.0\n",
       "00000        0.0\n",
       "000000       0.0\n",
       "...          ...\n",
       "ｗｗｗ          0.0\n",
       "ｳｨｷﾍﾟﾃﾞｨｱ    0.0\n",
       "𐌰𐌹           0.0\n",
       "𐌰𐌿           0.0\n",
       "𐌴𐌹           0.0\n",
       "\n",
       "[189775 rows x 1 columns]>"
      ]
     },
     "execution_count": 40,
     "metadata": {},
     "output_type": "execute_result"
    }
   ],
   "source": [
    "#print the scores\n",
    "df = pd.DataFrame(first_document_vector.T.todense(), \n",
    "                  index=feature_names, columns=[\"tfidf\"])\n",
    "df.head"
   ]
  },
  {
   "cell_type": "markdown",
   "metadata": {},
   "source": [
    "## Sklearn functions\n",
    "### TfidfVectorizer \n",
    "Now, we are going to use the same data from above to do the same thing as we did for Tfidftransformer – which is to get the tf-idf scores of a set of documents. But, notice how this is much shorter.\n",
    "\n",
    "With Tfidfvectorizer you compute the word counts, idf and tf-idf values all at once. It’s really simple.\n",
    "#### Settings vectorizer "
   ]
  },
  {
   "cell_type": "code",
   "execution_count": 41,
   "metadata": {},
   "outputs": [
    {
     "data": {
      "text/plain": [
       "TfidfVectorizer(analyzer='word', binary=False, decode_error='strict',\n",
       "                dtype=<class 'numpy.float64'>, encoding='utf-8',\n",
       "                input='content', lowercase=True, max_df=1.0, max_features=None,\n",
       "                min_df=1, ngram_range=(1, 1), norm='l2', preprocessor=None,\n",
       "                smooth_idf=True, stop_words=None, strip_accents=None,\n",
       "                sublinear_tf=False, token_pattern='(?u)\\\\b\\\\w\\\\w+\\\\b',\n",
       "                tokenizer=None, use_idf=True, vocabulary=None)"
      ]
     },
     "execution_count": 41,
     "metadata": {},
     "output_type": "execute_result"
    }
   ],
   "source": [
    "tfidf_vectorizer=TfidfVectorizer(use_idf=True)\n",
    "tfidf_vectorizer"
   ]
  },
  {
   "cell_type": "markdown",
   "metadata": {},
   "source": [
    "#### Fitting data"
   ]
  },
  {
   "cell_type": "code",
   "execution_count": 42,
   "metadata": {},
   "outputs": [
    {
     "data": {
      "text/plain": [
       "<159571x189775 sparse matrix of type '<class 'numpy.float64'>'\n",
       "\twith 6949691 stored elements in Compressed Sparse Row format>"
      ]
     },
     "execution_count": 42,
     "metadata": {},
     "output_type": "execute_result"
    }
   ],
   "source": [
    "tfidf_vectorizer_vectors=tfidf_vectorizer.fit_transform(train[COMMENT])\n",
    "tfidf_vectorizer_vectors"
   ]
  },
  {
   "cell_type": "markdown",
   "metadata": {},
   "source": [
    "$$\\textbf{Comments:}$$\n",
    "Now let’s print the tfidf values for the first document from our collection. Notice that these values are identical to the ones from Tfidftransformer, only thing is that it’s done in just two steps."
   ]
  },
  {
   "cell_type": "code",
   "execution_count": 43,
   "metadata": {},
   "outputs": [
    {
     "data": {
      "text/plain": [
       "<1x189775 sparse matrix of type '<class 'numpy.float64'>'\n",
       "\twith 43 stored elements in Compressed Sparse Row format>"
      ]
     },
     "execution_count": 43,
     "metadata": {},
     "output_type": "execute_result"
    }
   ],
   "source": [
    "first_vector_tfidfvectorizer=tfidf_vectorizer_vectors[0]\n",
    "first_vector_tfidfvectorizer"
   ]
  },
  {
   "cell_type": "code",
   "execution_count": 44,
   "metadata": {},
   "outputs": [
    {
     "data": {
      "text/html": [
       "<div>\n",
       "<style scoped>\n",
       "    .dataframe tbody tr th:only-of-type {\n",
       "        vertical-align: middle;\n",
       "    }\n",
       "\n",
       "    .dataframe tbody tr th {\n",
       "        vertical-align: top;\n",
       "    }\n",
       "\n",
       "    .dataframe thead th {\n",
       "        text-align: right;\n",
       "    }\n",
       "</style>\n",
       "<table border=\"1\" class=\"dataframe\">\n",
       "  <thead>\n",
       "    <tr style=\"text-align: right;\">\n",
       "      <th></th>\n",
       "      <th>tfidf</th>\n",
       "    </tr>\n",
       "  </thead>\n",
       "  <tbody>\n",
       "    <tr>\n",
       "      <td>00</td>\n",
       "      <td>0.0</td>\n",
       "    </tr>\n",
       "    <tr>\n",
       "      <td>000</td>\n",
       "      <td>0.0</td>\n",
       "    </tr>\n",
       "    <tr>\n",
       "      <td>0000</td>\n",
       "      <td>0.0</td>\n",
       "    </tr>\n",
       "    <tr>\n",
       "      <td>00000</td>\n",
       "      <td>0.0</td>\n",
       "    </tr>\n",
       "    <tr>\n",
       "      <td>000000</td>\n",
       "      <td>0.0</td>\n",
       "    </tr>\n",
       "  </tbody>\n",
       "</table>\n",
       "</div>"
      ],
      "text/plain": [
       "        tfidf\n",
       "00        0.0\n",
       "000       0.0\n",
       "0000      0.0\n",
       "00000     0.0\n",
       "000000    0.0"
      ]
     },
     "execution_count": 44,
     "metadata": {},
     "output_type": "execute_result"
    }
   ],
   "source": [
    "# place tf-idf values in a pandas data frame\n",
    "df_skfunc = pd.DataFrame(first_vector_tfidfvectorizer.T.todense(), \n",
    "                  index=tfidf_vectorizer.get_feature_names(), columns=[\"tfidf\"])\n",
    "df_skfunc.head()"
   ]
  },
  {
   "cell_type": "markdown",
   "metadata": {},
   "source": [
    "$$\\textbf{Comments}$$\n",
    "\n",
    "We have demonstrated how to convert the text-formated comments into the numerical one, here TF-IDF. Now, we apply to our underlying issue\n",
    "## Applying to underlying issue\n",
    "## Fitting to train and test data"
   ]
  },
  {
   "cell_type": "code",
   "execution_count": 45,
   "metadata": {
    "_cell_guid": "31ad6c98-d054-426c-b3bd-b3b18f52eb6f",
    "_uuid": "75f3f27d56fb2d7d539e65c292d9e77c92ceead3"
   },
   "outputs": [],
   "source": [
    "trn_term_doc = tfidf_vectorizer.fit_transform(train[COMMENT])\n",
    "test_term_doc = tfidf_vectorizer.transform(test[COMMENT])"
   ]
  },
  {
   "cell_type": "markdown",
   "metadata": {
    "_cell_guid": "4cf3ec26-8237-452b-90c9-831cb0297955",
    "_uuid": "6d215bc460e64d88b08f501d5c5a67c290e40635"
   },
   "source": [
    "Now, we can see an overview of our matrix"
   ]
  },
  {
   "cell_type": "code",
   "execution_count": 46,
   "metadata": {
    "_cell_guid": "4c7bdbcc-4451-4477-944c-772e99bac777",
    "_uuid": "8816cc35f66b9fed9c12978fbdef5bb68fae10f4"
   },
   "outputs": [
    {
     "data": {
      "text/plain": [
       "(<159571x189775 sparse matrix of type '<class 'numpy.float64'>'\n",
       " \twith 6949691 stored elements in Compressed Sparse Row format>,\n",
       " <153164x189775 sparse matrix of type '<class 'numpy.float64'>'\n",
       " \twith 5738810 stored elements in Compressed Sparse Row format>)"
      ]
     },
     "execution_count": 46,
     "metadata": {},
     "output_type": "execute_result"
    }
   ],
   "source": [
    "trn_term_doc, test_term_doc"
   ]
  },
  {
   "cell_type": "markdown",
   "metadata": {
    "_cell_guid": "59131479-a861-4f46-add9-b2af09a51976",
    "_uuid": "5fc487461f4c6fdaea25f2cd471fc801856c6689"
   },
   "source": [
    "$$\\textbf{Comments:}$$\n",
    "We see that 189,775 words were used to create 159,571 comments in the train dataset and 153,164 comments in the test dataset.\n",
    "\n",
    "Now, we can pick up our explanatory variables for both train and test data\n",
    "\n",
    "## Picking the explanatory variables\n"
   ]
  },
  {
   "cell_type": "code",
   "execution_count": 47,
   "metadata": {
    "_cell_guid": "2299d24b-5515-4d37-92d9-e7f6b16a290a",
    "_uuid": "926eaa2e40e588f4ef2b86e0a28f8e575c9ed5f4"
   },
   "outputs": [],
   "source": [
    "x_train = trn_term_doc\n",
    "x_test = test_term_doc"
   ]
  },
  {
   "cell_type": "markdown",
   "metadata": {},
   "source": [
    "## Picking the target feature\n",
    "Here, we have 8 labeled comments. Thus, there are 8 target features/dependent variables. Indeed, we need to train a ML using all 8 target features. However, I use one dependent variable, such as 'toxic'. The training and evaluating procedures are identical to those for seven remaining dependent."
   ]
  },
  {
   "cell_type": "code",
   "execution_count": 53,
   "metadata": {},
   "outputs": [
    {
     "data": {
      "text/plain": [
       "array([0, 0, 0, ..., 0, 0, 0], dtype=int64)"
      ]
     },
     "execution_count": 53,
     "metadata": {},
     "output_type": "execute_result"
    }
   ],
   "source": [
    "y_train=train['toxic'].values\n",
    "y_train"
   ]
  },
  {
   "cell_type": "markdown",
   "metadata": {
    "_cell_guid": "c0b494ac-0dfc-4faa-a909-0a6d7696d1fc",
    "_uuid": "dc5cafeab86d17ac4f036d58658437636a885a87"
   },
   "source": [
    "It is time to train Machine Learning models\n",
    "# Training Machine Learning models\n",
    "\n",
    "## Choosing models\n",
    "\n",
    "It is worth noting that there are a number of different Machine Learning algorithms. Thus, we do not know which algorithm is the best fit to our data. Thus, first we typically train a number of Machine Learning algorithms. Afterward, these competing algorithms will compare with each other. Since our data is to belong to the classification type, the score of accuray is typically used to compare the performance of these competing Machine Learning algortihms.\n",
    "\n",
    "### Preparing models\n",
    "Training and evaluating a ML algorithm are typicall time-comsuming work. Typcially, one should use the GPU-server, such as Amazon Web Services, to conduct this procedure. I use my own Macbook, which is not modern one. Thus, I just want to compare three ML algorithms"
   ]
  },
  {
   "cell_type": "code",
   "execution_count": 49,
   "metadata": {},
   "outputs": [],
   "source": [
    "models = []\n",
    "models.append(('RidgeClass', RidgeClassifier()))\n",
    "models.append(('LinearSVC', LinearSVC()))\n",
    "models.append(('SGDClass', SGDClassifier()))\n",
    "#models.append(('Percept', Perceptron()))\n",
    "#models.append(('PassiveAgg', PassiveAggressiveClassifier()))\n",
    "#models.append(('BerNB',BernoulliNB()))\n",
    "#models.append(('ComNB',ComplementNB()))\n",
    "#models.append(('MulNB',MultinomialNB()))\n",
    "#models.append(('KNN',KNeighborsClassifier()))\n",
    "#models.append(('NearCent',NearestCentroid()))\n",
    "#models.append(('RanForest', RandomForestClassifier(n_estimators=100)))\n",
    "#models.append(('ExtTree',ExtraTreesClassifier(n_estimators=100)))\n",
    "#models.append(('AdaBoost',AdaBoostClassifier()))\n",
    "#models.append(('GradientBoost',GradientBoostingClassifier()))\n",
    "#models.append(('',))"
   ]
  },
  {
   "cell_type": "markdown",
   "metadata": {},
   "source": [
    "### Training and evaluating models\n",
    "The ideas about comparing the performance of different ML algorithms are as follows. Each algorithm will be trained in a number of times. Indeed,our dataset will be splited into a number of fold. Typically, a number of folds are from 5 to 10. Then, mean of accuracy in each run will be used to compare. For further understanding, one can refer to the post below.\n",
    "\n",
    "https://medium.com/datadriveninvestor/k-fold-cross-validation-6b8518070833"
   ]
  },
  {
   "cell_type": "code",
   "execution_count": 54,
   "metadata": {},
   "outputs": [
    {
     "name": "stdout",
     "output_type": "stream",
     "text": [
      "The competing results of 3 Machine Learning models:\n",
      "RidgeClass: 0.951758 (0.001218)\n",
      "LinearSVC: 0.961108 (0.000927)\n",
      "SGDClass: 0.944000 (0.001749)\n"
     ]
    }
   ],
   "source": [
    "results = []\n",
    "names = []\n",
    "scoring = 'accuracy'\n",
    "print('The competing results of %d Machine Learning models:' %(len(models)))\n",
    "for name, model in models:\n",
    "    kfold = KFold(n_splits=10, random_state=7)\n",
    "    cv_results = cross_val_score(model, x_train,y_train, cv=kfold, scoring=scoring)\n",
    "    results.append(cv_results)\n",
    "    names.append(name)\n",
    "    msg = \"%s: %f (%f)\" % (name, cv_results.mean(), cv_results.std())\n",
    "    print(msg)"
   ]
  },
  {
   "cell_type": "markdown",
   "metadata": {},
   "source": [
    "### Boxplot algorithm comparison"
   ]
  },
  {
   "cell_type": "code",
   "execution_count": 55,
   "metadata": {},
   "outputs": [
    {
     "data": {
      "image/png": "[encoded data removed]",
      "text/plain": [
       "<Figure size 720x360 with 1 Axes>"
      ]
     },
     "metadata": {
      "needs_background": "light"
     },
     "output_type": "display_data"
    }
   ],
   "source": [
    "fig = plt.figure(figsize=(10,5))\n",
    "ax = fig.add_subplot(111)\n",
    "plt.boxplot(results,vert=False, showmeans=True) \n",
    "ax.set_yticklabels(names)\n",
    "#for i,v in enumerate(cv_results.mean()):\n",
    " #   ax.text(v , i-0.15 , str(v), color='blue')#, fontweight='bold')\n",
    "plt.autoscale(enable=True, axis='both',tight=True)\n",
    "plt.grid(which='major',linestyle=':',linewidth=0.9)\n",
    "plt.title('Machine Learning Algorithm Comparison', fontsize=13,fontweight='bold')\n",
    "plt.ylabel('Machine Learning Algorithms', fontsize=10)\n",
    "plt.xlabel('The Distributions of the Accuracy Scores', fontsize=10)\n",
    "plt.show()"
   ]
  },
  {
   "cell_type": "markdown",
   "metadata": {},
   "source": [
    "$$\\textbf{Comments}$$\n",
    "One can clearly see that the Linear Support Vector Classifier algorithm is the best one among three competing models. So, I choose this algorithm. However, it is worth noting that the configuration of three competing models is set at the default values. Thus, the performance of Linear Support Vector Classifier can be improved further by its hyperparameter tunning as follows. \n",
    "\n",
    "## Tunning Model\n",
    "\n",
    "To this end, one might read the information about Linear Support Vector on the links below\n",
    "\n",
    "\n",
    "1. Support Vector Machines \n",
    "\n",
    "https://scikit-learn.org/stable/modules/svm.html\n",
    "\n",
    "2. LinearSVC\n",
    "\n",
    "https://scikit-learn.org/stable/modules/generated/sklearn.svm.LinearSVC.html#sklearn.svm.LinearSVC\n",
    "\n",
    "We need to tun two hyperparameters, such as penalty and C\n",
    "\n",
    "### Preparing hyperparameters"
   ]
  },
  {
   "cell_type": "code",
   "execution_count": 76,
   "metadata": {},
   "outputs": [
    {
     "name": "stdout",
     "output_type": "stream",
     "text": [
      "The norm used in the penalization:\n",
      "['l1']\n",
      "Regularization parameter:\n",
      "[0.1 0.4 0.7]\n",
      "Combination:\n",
      "{'penalty': ['l1'], 'C': array([0.1, 0.4, 0.7])}\n"
     ]
    }
   ],
   "source": [
    "print('The norm used in the penalization:')\n",
    "penalty_values=['l1']#,'l2']\n",
    "print(penalty_values)\n",
    "print('Regularization parameter:')\n",
    "c_values=np.arange(0.1,0.8,0.3)\n",
    "print(c_values)\n",
    "print('Combination:')\n",
    "param_grid =dict(penalty=penalty_values,C=c_values)\n",
    "print(param_grid)"
   ]
  },
  {
   "cell_type": "markdown",
   "metadata": {},
   "source": [
    "### Defining model"
   ]
  },
  {
   "cell_type": "code",
   "execution_count": 77,
   "metadata": {},
   "outputs": [
    {
     "data": {
      "text/plain": [
       "LinearSVC(C=1.0, class_weight=None, dual=False, fit_intercept=True,\n",
       "          intercept_scaling=1, loss='squared_hinge', max_iter=1000,\n",
       "          multi_class='ovr', penalty='l2', random_state=None, tol=0.0001,\n",
       "          verbose=0)"
      ]
     },
     "execution_count": 77,
     "metadata": {},
     "output_type": "execute_result"
    }
   ],
   "source": [
    "tuning_model = LinearSVC(dual=False)\n",
    "tuning_model"
   ]
  },
  {
   "cell_type": "markdown",
   "metadata": {},
   "source": [
    "### Tunning model\n",
    "using 10 folds"
   ]
  },
  {
   "cell_type": "code",
   "execution_count": 82,
   "metadata": {},
   "outputs": [
    {
     "name": "stdout",
     "output_type": "stream",
     "text": [
      "Best: 0.961804 using {'C': 0.7000000000000001, 'penalty': 'l1'}\n",
      "0.957060 (0.001310) with: {'C': 0.1, 'penalty': 'l1'}\n",
      "0.961334 (0.001344) with: {'C': 0.4, 'penalty': 'l1'}\n",
      "0.961804 (0.001273) with: {'C': 0.7000000000000001, 'penalty': 'l1'}\n",
      "done in 179.251788s\n"
     ]
    }
   ],
   "source": [
    "kfold = KFold(n_splits=10, random_state=1)\n",
    "t0 = time()\n",
    "grid = GridSearchCV(estimator=tuning_model, param_grid=param_grid, scoring=scoring, cv=kfold)\n",
    "grid_result = grid.fit(x_train, y_train)\n",
    "print(\"Best: %f using %s\" % (grid_result.best_score_, grid_result.best_params_))\n",
    "means = grid_result.cv_results_['mean_test_score']\n",
    "stds = grid_result.cv_results_['std_test_score']\n",
    "params = grid_result.cv_results_['params']\n",
    "for mean, stdev, param in zip(means, stds, params):\n",
    "    print(\"%f (%f) with: %r\" % (mean, stdev, param))\n",
    "print(\"done in %fs\" % (time() - t0))"
   ]
  },
  {
   "cell_type": "markdown",
   "metadata": {},
   "source": [
    "## Re-configuring model"
   ]
  },
  {
   "cell_type": "code",
   "execution_count": 80,
   "metadata": {},
   "outputs": [],
   "source": [
    "mymodel=LinearSVC(penalty= 'l1',C= 0.7,dual=False)"
   ]
  },
  {
   "cell_type": "markdown",
   "metadata": {
    "_cell_guid": "1a99c4d9-916f-4189-9a25-fedcb7700336",
    "_uuid": "5525045116474e6d12b6edc890250d30c0790f06"
   },
   "source": [
    "# Creating the submission file."
   ]
  },
  {
   "cell_type": "code",
   "execution_count": null,
   "metadata": {
    "_cell_guid": "bc6a4575-fbbb-47ea-81ac-91fa702dc194",
    "_uuid": "5dd033a93e6cf32cdbdaa0a8b05cd8d27de2b21d",
    "collapsed": true
   },
   "outputs": [],
   "source": [
    "submid = pd.DataFrame({'id': subm[\"id\"]})\n",
    "submission = pd.concat([submid, pd.DataFrame(preds, columns = label_cols)], axis=1)\n",
    "submission.to_csv('submission.csv', index=False)"
   ]
  }
 ],
 "metadata": {
  "kernelspec": {
   "display_name": "Python 3",
   "language": "python",
   "name": "python3"
  },
  "language_info": {
   "codemirror_mode": {
    "name": "ipython",
    "version": 3
   },
   "file_extension": ".py",
   "mimetype": "text/x-python",
   "name": "python",
   "nbconvert_exporter": "python",
   "pygments_lexer": "ipython3",
   "version": "3.6.9"
  },
  "toc": {
   "base_numbering": 1,
   "nav_menu": {},
   "number_sections": true,
   "sideBar": true,
   "skip_h1_title": false,
   "title_cell": "Table of Contents",
   "title_sidebar": "Contents",
   "toc_cell": false,
   "toc_position": {},
   "toc_section_display": true,
   "toc_window_display": false
  }
 },
 "nbformat": 4,
 "nbformat_minor": 1
}
